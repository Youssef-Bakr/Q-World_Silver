{
 "cells": [
  {
   "cell_type": "markdown",
   "metadata": {},
   "source": [
    "<table width=\"100%\"><tr style=\"background-color:white;\">\n",
    "    <td style=\"text-align:left;padding:0px;width:142px'\">\n",
    "        <a href=\"https://qworld.net\" target=\"_blank\">\n",
    "            <img src=\"qworld/images/QWorld.png\"></a></td>\n",
    "    <td width=\"*\">&nbsp;&nbsp;&nbsp;&nbsp;&nbsp;&nbsp;</td>\n",
    "    <!-- ############################################# -->\n",
    "    <td style=\"padding:0px;width:90px;\">\n",
    "        <img align=\"right\" src=\"qworld/images/follow_us.png\" height=\"40px\"></td>\n",
    "    <td style=\"padding:0px;width:40px;\">\n",
    "        <a href=\"https://twitter.com/QWorld19\" target=\"_blank\">\n",
    "        <img align=\"right\" src=\"qworld/images/Twitter.png\" width=\"40px\"></a> </td>\n",
    "    <td style=\"padding:0px;width:5px;\"></td>\n",
    "    <td style=\"padding:0px;width:40px;\">\n",
    "        <a href=\"https://www.facebook.com/qworld19/\" target=\"_blank\">\n",
    "        <img align=\"right\" src=\"qworld/images/Fb.png\"></a></td>\n",
    "    <td style=\"padding:0px;width:5px;\"></td>\n",
    "    <td style=\"padding:0px;width:40px;\">\n",
    "        <a href=\"https://www.linkedin.com/company/qworld19\" target=\"_blank\">\n",
    "        <img align=\"right\" src=\"qworld/images/LinkedIn.png\"></a></td>\n",
    "    <td style=\"padding:0px;width:5px;\"></td>\n",
    "    <td style=\"padding:0px;width:40px;\">\n",
    "        <a href=\"https://youtube.com/QWorld19?sub_confirmation=1\" target=\"_blank\">\n",
    "        <img align=\"right\" src=\"qworld/images/YT.png\"></a></td>\n",
    "    <!-- ############################################# -->\n",
    "    <td style=\"padding:0px;width:60px;\">\n",
    "        <img align=\"right\" src=\"qworld/images/join.png\" height=\"40px\"></td>\n",
    "    <td style=\"padding:0px;width:40px;\">\n",
    "        <a href=\"https://discord.com/invite/akCvr7U87g\"\n",
    "           target=\"_blank\">\n",
    "        <img align=\"right\" src=\"qworld/images/Discord.png\"></a></td>\n",
    "    <!-- ############################################# -->\n",
    "    <td style=\"padding:0px;width:72px;\">\n",
    "        <img align=\"right\" src=\"qworld/images/w3.png\" height=\"40px\"></td>\n",
    "    <td style=\"padding:0px;width:40px;\">\n",
    "        <a href=\"https://qworld.net\" target=\"_blank\">\n",
    "        <img align=\"right\" src=\"qworld/images/www.png\"></a></td>\n",
    "</tr></table>"
   ]
  },
  {
   "cell_type": "markdown",
   "metadata": {},
   "source": [
    "<h1 style=\"color: #A9A9A9;\"> Content </h1>"
   ]
  },
  {
   "cell_type": "markdown",
   "metadata": {},
   "source": [
    "[Cirq Installation and Test](silver/B01_Cirq_Installation_and_Test.ipynb)   &nbsp;|&nbsp;\n",
    "[Jupyter notebooks](silver/R00_Intro_to_Notebooks.ipynb)  &nbsp;|&nbsp;\n",
    "[Python Reference](silver/R01_Python_Reference.ipynb)  &nbsp;|&nbsp;\n",
    "[Introduction to Cirq](silver/D00_Cirq_Introduction.ipynb)"
   ]
  },
  {
   "cell_type": "markdown",
   "metadata": {},
   "source": [
    "### Basics\n",
    "\n",
    "[Complex numbers](silver/C01_Complex_Number_Basics.ipynb) &nbsp;|&nbsp;\n",
    "[Mathematical notation](silver/C02_Mathematical_Notation.ipynb) &nbsp;|&nbsp;\n",
    "[Quantum states](silver/C02_Quantum_States_With_Complex_Numbers.ipynb) &nbsp;|&nbsp;\n",
    "[Briefly unitary operators](silver/C03_Briefly_Unitary_Operators.ipynb)"
   ]
  },
  {
   "cell_type": "markdown",
   "metadata": {},
   "source": [
    "### Bloch Sphere\n",
    "\n",
    "[Global and relative phases](silver/C05_Global_And_Relative_Phases.ipynb) &nbsp;|&nbsp;\n",
    "[Unique Representation](silver/C06_Unique_Representation.ipynb) &nbsp;|&nbsp;\n",
    "[Bloch sphere](silver/C07_Bloch_Sphere.ipynb)\n",
    " "
   ]
  },
  {
   "cell_type": "markdown",
   "metadata": {},
   "source": [
    " ### Complex-valued Quantum Operators\n",
    "\n",
    "[Single-qubit quantum gates](silver/C04_Single_Qubit_Quantum_Gates.ipynb)&nbsp;|&nbsp; \n",
    "[Rotations on Bloch sphere](silver/C08_Rotations_on_Bloch_Shpere.ipynb)&nbsp;|&nbsp; \n",
    "[Multi-qubit gates](silver/C09_Multi-qubit_Gates.ipynb)"
   ]
  },
  {
   "cell_type": "markdown",
   "metadata": {},
   "source": [
    "### Quantum Fourier Transform\n",
    "\n",
    "[Discrete Fourier Transform](silver/D01_Discrete_Fourier_Transform.ipynb)&nbsp;|&nbsp;\n",
    "[Quantum Fourier Transform](silver/D02_Quantum_Fourier_Transform.ipynb) &nbsp;|&nbsp;\n",
    "[Phase Estimation](silver/D03_Phase_Estimation.ipynb)"
   ]
  },
  {
   "cell_type": "markdown",
   "metadata": {},
   "source": [
    "### Shor's Algorithm for Prime Factorization\n",
    "\n",
    "[Order Finding Algorithm](silver/D04_Order_Finding_Algorithm.ipynb) &nbsp;|&nbsp;\n",
    "[Shor's Algorithm](silver/D05_Shors_Algorithm.ipynb)&nbsp;|&nbsp;\n",
    "[Shor's Algorithm in more detail](silver/D06_Shors_Algorithm_In_More_Detail.ipynb)"
   ]
  },
  {
   "cell_type": "markdown",
   "metadata": {},
   "source": [
    "<hr>"
   ]
  },
  {
   "cell_type": "markdown",
   "metadata": {},
   "source": [
    "[References](silver/S01_References.ipynb)"
   ]
  }
 ],
 "metadata": {
  "kernelspec": {
   "display_name": "Python 3 (ipykernel)",
   "language": "python",
   "name": "python3"
  },
  "language_info": {
   "codemirror_mode": {
    "name": "ipython",
    "version": 3
   },
   "file_extension": ".py",
   "mimetype": "text/x-python",
   "name": "python",
   "nbconvert_exporter": "python",
   "pygments_lexer": "ipython3",
   "version": "3.9.12"
  }
 },
 "nbformat": 4,
 "nbformat_minor": 2
}
